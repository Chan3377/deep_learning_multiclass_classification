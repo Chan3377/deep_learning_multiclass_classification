{
  "nbformat": 4,
  "nbformat_minor": 0,
  "metadata": {
    "colab": {
      "provenance": [],
      "gpuType": "T4"
    },
    "kernelspec": {
      "name": "python3",
      "display_name": "Python 3"
    },
    "language_info": {
      "name": "python"
    },
    "accelerator": "GPU"
  },
  "cells": [
    {
      "cell_type": "markdown",
      "source": [
        "# **Classifying newswires: A multiclass classification example**"
      ],
      "metadata": {
        "id": "MYQ6FBBkQsf7"
      }
    },
    {
      "cell_type": "markdown",
      "source": [
        "**The Reuters Dataset**"
      ],
      "metadata": {
        "id": "yktGnqMfR744"
      }
    },
    {
      "cell_type": "code",
      "source": [
        "from tensorflow import keras\n",
        "from tensorflow.keras import layers\n",
        "from tensorflow.keras.datasets import imdb\n",
        "from tensorflow.keras.utils import to_categorical\n",
        "import matplotlib.pyplot as plt\n",
        "import numpy as np"
      ],
      "metadata": {
        "id": "xy0PzKk4bAVN"
      },
      "execution_count": 6,
      "outputs": []
    },
    {
      "cell_type": "code",
      "source": [
        "# Loading the Reuters dataset\n",
        "\n",
        "from tensorflow.keras.datasets import reuters\n",
        "\n",
        "# num_words=10000 restricts the data to the 10,000 most frequently occurring words found in the data\n",
        "(train_data, train_labels), (test_data, test_labels) = reuters.load_data(num_words=10000)"
      ],
      "metadata": {
        "id": "GrmbSkZ8PprJ"
      },
      "execution_count": 7,
      "outputs": []
    },
    {
      "cell_type": "code",
      "source": [
        "len(train_data), len(test_data)"
      ],
      "metadata": {
        "colab": {
          "base_uri": "https://localhost:8080/"
        },
        "id": "QWj_HkzXSkqb",
        "outputId": "bff80b85-8b6a-442c-e05c-86ef7d96074d"
      },
      "execution_count": 8,
      "outputs": [
        {
          "output_type": "execute_result",
          "data": {
            "text/plain": [
              "(8982, 2246)"
            ]
          },
          "metadata": {},
          "execution_count": 8
        }
      ]
    },
    {
      "cell_type": "code",
      "source": [
        "train_data[0][:10]"
      ],
      "metadata": {
        "colab": {
          "base_uri": "https://localhost:8080/"
        },
        "id": "2V4VoVVMSsnM",
        "outputId": "a9a92384-b440-4285-9a3a-c27752d15dbc"
      },
      "execution_count": 9,
      "outputs": [
        {
          "output_type": "execute_result",
          "data": {
            "text/plain": [
              "[1, 2, 2, 8, 43, 10, 447, 5, 25, 207]"
            ]
          },
          "metadata": {},
          "execution_count": 9
        }
      ]
    },
    {
      "cell_type": "markdown",
      "source": [
        "**Prepare the data**"
      ],
      "metadata": {
        "id": "zFgkPJu5TWtw"
      }
    },
    {
      "cell_type": "code",
      "source": [
        "# Encoding the integer sequences via multi-hot encoding\n",
        "def vectorize_sequences(sequences, dimension=10000):\n",
        "\n",
        "  # creates an all-zero matrix of shape (len(sequences), dimension)\n",
        "  results = np.zeros((len(sequences), dimension))\n",
        "  for i, sequence in enumerate(sequences):\n",
        "    for j in sequence:\n",
        "\n",
        "      # sets specific indices of results[i] to 1s\n",
        "      results[i, j] = 1.\n",
        "    return results"
      ],
      "metadata": {
        "id": "lZmSf7aAS1Gp"
      },
      "execution_count": 10,
      "outputs": []
    },
    {
      "cell_type": "code",
      "source": [
        "# Encoding the input data\n",
        "x_train = vectorize_sequences(train_data)\n",
        "x_test = vectorize_sequences(test_data)"
      ],
      "metadata": {
        "id": "T5kcZwzUTa07"
      },
      "execution_count": 11,
      "outputs": []
    },
    {
      "cell_type": "code",
      "source": [
        "# Encoding the labels\n",
        "def to_one_hot(labels, dimension=46):\n",
        "  results = np.zeros((len(labels), dimension))\n",
        "  for i, label in enumerate(labels):\n",
        "    results[i, label] = 1.\n",
        "  return results"
      ],
      "metadata": {
        "id": "RdLOQcTMTis0"
      },
      "execution_count": 12,
      "outputs": []
    },
    {
      "cell_type": "code",
      "source": [
        "y_train = to_one_hot(train_labels)\n",
        "y_test = to_one_hot(test_labels)"
      ],
      "metadata": {
        "id": "chMjvjlrUK6B"
      },
      "execution_count": 13,
      "outputs": []
    },
    {
      "cell_type": "code",
      "source": [
        "# built-in way to do this in Keras\n",
        "# y_train = to_categorical(train_labels)\n",
        "# y_test = to_categorical(test_labels)"
      ],
      "metadata": {
        "id": "sfwiR__XUcNo"
      },
      "execution_count": 14,
      "outputs": []
    },
    {
      "cell_type": "markdown",
      "source": [
        "**Build the model**"
      ],
      "metadata": {
        "id": "LqAIBrAoUsGl"
      }
    },
    {
      "cell_type": "markdown",
      "source": [
        "About this architecture:\n",
        "*   The first and second layers Start with 64 units using ***relu*** activation\n",
        "*   End the model with a Dense layer of size 46 using ***softmax*** activation\n",
        "\n",
        "The model will output a probability distribution over the 46 different\n",
        "output classes.\n",
        "\n",
        "Using ***categorical_crossentropy*** measures\n",
        "the distance between two probability distributions.\n",
        "\n"
      ],
      "metadata": {
        "id": "L2TCMPgEWLK2"
      }
    },
    {
      "cell_type": "code",
      "source": [
        "# Model definition\n",
        "\n",
        "# the number of output classes has 46\n",
        "\n",
        "model = keras.Sequential([\n",
        "    layers.Dense(64, activation=\"relu\"),\n",
        "    layers.Dense(64, activation=\"relu\"),\n",
        "    layers.Dense(46, activation=\"softmax\")\n",
        "])"
      ],
      "metadata": {
        "id": "_EgifEriUv-T"
      },
      "execution_count": 15,
      "outputs": []
    },
    {
      "cell_type": "code",
      "source": [
        "# Compiling the model\n",
        "\n",
        "model.compile(optimizer=\"rmsprop\",\n",
        "              loss=\"categorical_crossentropy\",\n",
        "              metrics=[\"accuracy\"])"
      ],
      "metadata": {
        "id": "dOAIpGbFW7SN"
      },
      "execution_count": 16,
      "outputs": []
    },
    {
      "cell_type": "markdown",
      "source": [
        "**Validating approach**"
      ],
      "metadata": {
        "id": "q2rcMInOXbPV"
      }
    },
    {
      "cell_type": "code",
      "source": [
        "# Setting aside a validation set\n",
        "x_val = x_train[:1000]\n",
        "partial_x_train = x_train[1000:]\n",
        "y_val = y_train[:1000]\n",
        "partial_y_train = y_train[1000:]"
      ],
      "metadata": {
        "id": "DVA4xaOQXaHA"
      },
      "execution_count": 17,
      "outputs": []
    },
    {
      "cell_type": "code",
      "source": [
        "# Training the model\n",
        "# Train the model for 20 epochs.\n",
        "history = model.fit(partial_x_train,\n",
        "                    partial_y_train,\n",
        "                    epochs=20,\n",
        "                    batch_size=512,\n",
        "                    validation_data=(x_val, y_val))"
      ],
      "metadata": {
        "colab": {
          "base_uri": "https://localhost:8080/"
        },
        "id": "6-UDJkSrXmDD",
        "outputId": "1f8417b5-b815-4d1f-b865-3c54991c863a"
      },
      "execution_count": 18,
      "outputs": [
        {
          "output_type": "stream",
          "name": "stdout",
          "text": [
            "Epoch 1/20\n",
            "16/16 [==============================] - 3s 39ms/step - loss: 3.8120 - accuracy: 0.1384 - val_loss: 3.7980 - val_accuracy: 0.0590\n",
            "Epoch 2/20\n",
            "16/16 [==============================] - 0s 17ms/step - loss: 3.7883 - accuracy: 0.1941 - val_loss: 3.7771 - val_accuracy: 0.2230\n",
            "Epoch 3/20\n",
            "16/16 [==============================] - 0s 20ms/step - loss: 3.7678 - accuracy: 0.2164 - val_loss: 3.7570 - val_accuracy: 0.2230\n",
            "Epoch 4/20\n",
            "16/16 [==============================] - 0s 18ms/step - loss: 3.7478 - accuracy: 0.2164 - val_loss: 3.7373 - val_accuracy: 0.2230\n",
            "Epoch 5/20\n",
            "16/16 [==============================] - 0s 16ms/step - loss: 3.7282 - accuracy: 0.2164 - val_loss: 3.7178 - val_accuracy: 0.2230\n",
            "Epoch 6/20\n",
            "16/16 [==============================] - 0s 18ms/step - loss: 3.7086 - accuracy: 0.2164 - val_loss: 3.6983 - val_accuracy: 0.2230\n",
            "Epoch 7/20\n",
            "16/16 [==============================] - 0s 21ms/step - loss: 3.6891 - accuracy: 0.2164 - val_loss: 3.6790 - val_accuracy: 0.2230\n",
            "Epoch 8/20\n",
            "16/16 [==============================] - 0s 24ms/step - loss: 3.6698 - accuracy: 0.2164 - val_loss: 3.6598 - val_accuracy: 0.2230\n",
            "Epoch 9/20\n",
            "16/16 [==============================] - 0s 24ms/step - loss: 3.6507 - accuracy: 0.2164 - val_loss: 3.6408 - val_accuracy: 0.3540\n",
            "Epoch 10/20\n",
            "16/16 [==============================] - 0s 22ms/step - loss: 3.6317 - accuracy: 0.2499 - val_loss: 3.6220 - val_accuracy: 0.3540\n",
            "Epoch 11/20\n",
            "16/16 [==============================] - 0s 23ms/step - loss: 3.6129 - accuracy: 0.2749 - val_loss: 3.6033 - val_accuracy: 0.2230\n",
            "Epoch 12/20\n",
            "16/16 [==============================] - 0s 24ms/step - loss: 3.5942 - accuracy: 0.2924 - val_loss: 3.5847 - val_accuracy: 0.2230\n",
            "Epoch 13/20\n",
            "16/16 [==============================] - 0s 20ms/step - loss: 3.5756 - accuracy: 0.2591 - val_loss: 3.5663 - val_accuracy: 0.3540\n",
            "Epoch 14/20\n",
            "16/16 [==============================] - 0s 17ms/step - loss: 3.5572 - accuracy: 0.2771 - val_loss: 3.5480 - val_accuracy: 0.3540\n",
            "Epoch 15/20\n",
            "16/16 [==============================] - 0s 17ms/step - loss: 3.5390 - accuracy: 0.3514 - val_loss: 3.5299 - val_accuracy: 0.3540\n",
            "Epoch 16/20\n",
            "16/16 [==============================] - 0s 17ms/step - loss: 3.5210 - accuracy: 0.3414 - val_loss: 3.5120 - val_accuracy: 0.3540\n",
            "Epoch 17/20\n",
            "16/16 [==============================] - 0s 17ms/step - loss: 3.5031 - accuracy: 0.3514 - val_loss: 3.4942 - val_accuracy: 0.3540\n",
            "Epoch 18/20\n",
            "16/16 [==============================] - 0s 17ms/step - loss: 3.4854 - accuracy: 0.3514 - val_loss: 3.4765 - val_accuracy: 0.3540\n",
            "Epoch 19/20\n",
            "16/16 [==============================] - 0s 18ms/step - loss: 3.4677 - accuracy: 0.3514 - val_loss: 3.4590 - val_accuracy: 0.3540\n",
            "Epoch 20/20\n",
            "16/16 [==============================] - 0s 15ms/step - loss: 3.4502 - accuracy: 0.3514 - val_loss: 3.4416 - val_accuracy: 0.3540\n"
          ]
        }
      ]
    },
    {
      "cell_type": "code",
      "source": [
        "# Plotting the training and validation loss\n",
        "loss = history.history[\"loss\"]\n",
        "val_loss = history.history[\"val_loss\"]\n",
        "epochs = range(1, len(loss) + 1)\n",
        "plt.plot(epochs, loss, \"bo\", label=\"Training loss\")\n",
        "plt.plot(epochs, val_loss, \"b\", label=\"Validation loss\")\n",
        "plt.title(\"Training and validation loss\")\n",
        "plt.xlabel(\"Epochs\")\n",
        "plt.ylabel(\"Loss\")\n",
        "plt.legend()\n",
        "plt.show()"
      ],
      "metadata": {
        "colab": {
          "base_uri": "https://localhost:8080/",
          "height": 472
        },
        "id": "syel_BieZGNI",
        "outputId": "3d05636b-fcaa-449b-c72a-a13fad500ff7"
      },
      "execution_count": 19,
      "outputs": [
        {
          "output_type": "display_data",
          "data": {
            "text/plain": [
              "<Figure size 640x480 with 1 Axes>"
            ],
            "image/png": "[encoded data removed]"
          },
          "metadata": {}
        }
      ]
    },
    {
      "cell_type": "code",
      "source": [
        "# Plotting the training and validation accuracy\n",
        "plt.clf() # Clears the figure\n",
        "acc = history.history[\"accuracy\"]\n",
        "val_acc = history.history[\"val_accuracy\"]\n",
        "plt.plot(epochs, acc, \"bo\", label=\"Training accuracy\")\n",
        "plt.plot(epochs, val_acc, \"b\", label=\"Validation accuracy\")\n",
        "plt.title(\"Training and validation accuracy\")\n",
        "plt.xlabel(\"Epochs\")\n",
        "plt.ylabel(\"Accuracy\")\n",
        "plt.legend()\n",
        "plt.show()"
      ],
      "metadata": {
        "colab": {
          "base_uri": "https://localhost:8080/",
          "height": 472
        },
        "id": "SUaMg3i5ZIrk",
        "outputId": "aa9f42f4-8583-434c-e518-fe35e57205b5"
      },
      "execution_count": 20,
      "outputs": [
        {
          "output_type": "display_data",
          "data": {
            "text/plain": [
              "<Figure size 640x480 with 1 Axes>"
            ],
            "image/png": "[encoded data removed]"
          },
          "metadata": {}
        }
      ]
    },
    {
      "cell_type": "markdown",
      "source": [
        "**Retraining a model from scratch**"
      ],
      "metadata": {
        "id": "RgMMVkNsbRx0"
      }
    },
    {
      "cell_type": "code",
      "source": [
        "model = keras.Sequential([\n",
        "    layers.Dense(64, activation=\"relu\"),\n",
        "    layers.Dense(64, activation=\"relu\"),\n",
        "    layers.Dense(46, activation=\"softmax\")\n",
        "])"
      ],
      "metadata": {
        "id": "qvaJoCVxbhGB"
      },
      "execution_count": 21,
      "outputs": []
    },
    {
      "cell_type": "code",
      "source": [
        "model.compile(optimizer=\"rmsprop\",\n",
        "              loss=\"categorical_crossentropy\",\n",
        "              metrics=[\"accuracy\"])"
      ],
      "metadata": {
        "id": "gQHxqWipbkBv"
      },
      "execution_count": 22,
      "outputs": []
    },
    {
      "cell_type": "code",
      "source": [
        "model.fit(x_train, y_train, epochs=9, batch_size=512)"
      ],
      "metadata": {
        "colab": {
          "base_uri": "https://localhost:8080/"
        },
        "id": "NQSF9ZGRbmOP",
        "outputId": "79ca3126-c23e-482b-efa4-144f33689b40"
      },
      "execution_count": 23,
      "outputs": [
        {
          "output_type": "stream",
          "name": "stdout",
          "text": [
            "Epoch 1/9\n",
            "18/18 [==============================] - 1s 15ms/step - loss: 3.7950 - accuracy: 0.2786\n",
            "Epoch 2/9\n",
            "18/18 [==============================] - 0s 14ms/step - loss: 3.6846 - accuracy: 0.3517\n",
            "Epoch 3/9\n",
            "18/18 [==============================] - 0s 13ms/step - loss: 3.5004 - accuracy: 0.3517\n",
            "Epoch 4/9\n",
            "18/18 [==============================] - 0s 14ms/step - loss: 3.2392 - accuracy: 0.3517\n",
            "Epoch 5/9\n",
            "18/18 [==============================] - 0s 15ms/step - loss: 2.9393 - accuracy: 0.3517\n",
            "Epoch 6/9\n",
            "18/18 [==============================] - 0s 14ms/step - loss: 2.6649 - accuracy: 0.3517\n",
            "Epoch 7/9\n",
            "18/18 [==============================] - 0s 14ms/step - loss: 2.4897 - accuracy: 0.3517\n",
            "Epoch 8/9\n",
            "18/18 [==============================] - 0s 14ms/step - loss: 2.4273 - accuracy: 0.3517\n",
            "Epoch 9/9\n",
            "18/18 [==============================] - 0s 13ms/step - loss: 2.4139 - accuracy: 0.3517\n"
          ]
        },
        {
          "output_type": "execute_result",
          "data": {
            "text/plain": [
              "<keras.src.callbacks.History at 0x7f00156ba8c0>"
            ]
          },
          "metadata": {},
          "execution_count": 23
        }
      ]
    },
    {
      "cell_type": "code",
      "source": [
        "results = model.evaluate(x_test, y_test)"
      ],
      "metadata": {
        "colab": {
          "base_uri": "https://localhost:8080/"
        },
        "id": "Ua7llGUnbnZ9",
        "outputId": "d8387137-958e-46cf-dbaf-4d937aa4e730"
      },
      "execution_count": 24,
      "outputs": [
        {
          "output_type": "stream",
          "name": "stdout",
          "text": [
            "71/71 [==============================] - 0s 4ms/step - loss: 2.4235 - accuracy: 0.3620\n"
          ]
        }
      ]
    },
    {
      "cell_type": "code",
      "source": [
        "results"
      ],
      "metadata": {
        "colab": {
          "base_uri": "https://localhost:8080/"
        },
        "id": "i0ZQk3S8buum",
        "outputId": "268a40bc-06ba-4679-c966-090875c5e91c"
      },
      "execution_count": 25,
      "outputs": [
        {
          "output_type": "execute_result",
          "data": {
            "text/plain": [
              "[2.423456907272339, 0.36197686195373535]"
            ]
          },
          "metadata": {},
          "execution_count": 25
        }
      ]
    },
    {
      "cell_type": "markdown",
      "source": [
        "**Generating predictions on new data**"
      ],
      "metadata": {
        "id": "41OqCU55domX"
      }
    },
    {
      "cell_type": "code",
      "source": [
        "predictions = model.predict(x_test)"
      ],
      "metadata": {
        "colab": {
          "base_uri": "https://localhost:8080/"
        },
        "id": "U75n3LnKdqN1",
        "outputId": "65524165-2145-4074-c0d5-1df33111fe8b"
      },
      "execution_count": 26,
      "outputs": [
        {
          "output_type": "stream",
          "name": "stdout",
          "text": [
            "71/71 [==============================] - 0s 3ms/step\n"
          ]
        }
      ]
    },
    {
      "cell_type": "code",
      "source": [
        "# Each entry in “predictions” is a vector of length 46\n",
        "predictions[0].shape"
      ],
      "metadata": {
        "colab": {
          "base_uri": "https://localhost:8080/"
        },
        "id": "KPSPF_wJdvZa",
        "outputId": "02d6a1a4-c3c1-43bf-d512-1a4309fadc32"
      },
      "execution_count": 27,
      "outputs": [
        {
          "output_type": "execute_result",
          "data": {
            "text/plain": [
              "(46,)"
            ]
          },
          "metadata": {},
          "execution_count": 27
        }
      ]
    },
    {
      "cell_type": "code",
      "source": [
        "# The coefficients in this vector sum to 1, as they form a probability distribution\n",
        "np.sum(predictions[0])"
      ],
      "metadata": {
        "colab": {
          "base_uri": "https://localhost:8080/"
        },
        "id": "pMzvQ2uNd-Pp",
        "outputId": "9f279d2f-0595-43d8-98cb-df50a4657974"
      },
      "execution_count": 28,
      "outputs": [
        {
          "output_type": "execute_result",
          "data": {
            "text/plain": [
              "0.9999999"
            ]
          },
          "metadata": {},
          "execution_count": 28
        }
      ]
    },
    {
      "cell_type": "code",
      "source": [
        "# The largest entry is the predicted class—the class with the highest probability\n",
        "np.argmax(predictions[0])"
      ],
      "metadata": {
        "colab": {
          "base_uri": "https://localhost:8080/"
        },
        "id": "tT4w2GCteGw6",
        "outputId": "9ed3be88-a254-4bb8-bd4d-1100183cde5d"
      },
      "execution_count": 29,
      "outputs": [
        {
          "output_type": "execute_result",
          "data": {
            "text/plain": [
              "3"
            ]
          },
          "metadata": {},
          "execution_count": 29
        }
      ]
    },
    {
      "cell_type": "markdown",
      "source": [
        "**Expand layers for Experiments**"
      ],
      "metadata": {
        "id": "2i5nuIB8X8gR"
      }
    },
    {
      "cell_type": "code",
      "source": [
        "# Model definition\n",
        "# Add three intermediate layers with one 128 units and two 64 units\n",
        "# the number of output classes has 46\n",
        "\n",
        "model = keras.Sequential([\n",
        "    layers.Dense(128, activation=\"relu\"),\n",
        "    layers.Dense(64, activation=\"relu\"),\n",
        "    layers.Dense(64, activation=\"relu\"),\n",
        "    layers.Dense(46, activation=\"softmax\")\n",
        "])"
      ],
      "metadata": {
        "id": "inPeDgEvYSpP"
      },
      "execution_count": 30,
      "outputs": []
    },
    {
      "cell_type": "code",
      "source": [
        "model.compile(optimizer=\"rmsprop\",\n",
        "              loss=\"categorical_crossentropy\",\n",
        "              metrics=[\"accuracy\"])"
      ],
      "metadata": {
        "id": "iDff5E69Yun9"
      },
      "execution_count": 31,
      "outputs": []
    },
    {
      "cell_type": "code",
      "source": [
        "# Training the model\n",
        "# Train the model for 20 epochs.\n",
        "history = model.fit(partial_x_train,\n",
        "                    partial_y_train,\n",
        "                    epochs=20,\n",
        "                    batch_size=512,\n",
        "                    validation_data=(x_val, y_val))"
      ],
      "metadata": {
        "colab": {
          "base_uri": "https://localhost:8080/"
        },
        "id": "YsOrKWKfYwZY",
        "outputId": "7c1b2965-c3cf-40ce-d4a6-90bbc5859696"
      },
      "execution_count": 32,
      "outputs": [
        {
          "output_type": "stream",
          "name": "stdout",
          "text": [
            "Epoch 1/20\n",
            "16/16 [==============================] - 2s 37ms/step - loss: 3.8117 - accuracy: 0.1711 - val_loss: 3.7977 - val_accuracy: 0.0440\n",
            "Epoch 2/20\n",
            "16/16 [==============================] - 0s 20ms/step - loss: 3.7879 - accuracy: 0.2538 - val_loss: 3.7768 - val_accuracy: 0.3530\n",
            "Epoch 3/20\n",
            "16/16 [==============================] - 0s 17ms/step - loss: 3.7675 - accuracy: 0.3514 - val_loss: 3.7569 - val_accuracy: 0.3530\n",
            "Epoch 4/20\n",
            "16/16 [==============================] - 0s 18ms/step - loss: 3.7476 - accuracy: 0.3514 - val_loss: 3.7371 - val_accuracy: 0.3530\n",
            "Epoch 5/20\n",
            "16/16 [==============================] - 0s 18ms/step - loss: 3.7279 - accuracy: 0.3514 - val_loss: 3.7176 - val_accuracy: 0.3530\n",
            "Epoch 6/20\n",
            "16/16 [==============================] - 0s 22ms/step - loss: 3.7083 - accuracy: 0.3514 - val_loss: 3.6981 - val_accuracy: 0.3540\n",
            "Epoch 7/20\n",
            "16/16 [==============================] - 0s 17ms/step - loss: 3.6889 - accuracy: 0.3514 - val_loss: 3.6788 - val_accuracy: 0.3540\n",
            "Epoch 8/20\n",
            "16/16 [==============================] - 0s 19ms/step - loss: 3.6696 - accuracy: 0.3514 - val_loss: 3.6597 - val_accuracy: 0.3540\n",
            "Epoch 9/20\n",
            "16/16 [==============================] - 0s 18ms/step - loss: 3.6504 - accuracy: 0.3514 - val_loss: 3.6407 - val_accuracy: 0.3540\n",
            "Epoch 10/20\n",
            "16/16 [==============================] - 0s 19ms/step - loss: 3.6315 - accuracy: 0.3514 - val_loss: 3.6219 - val_accuracy: 0.3540\n",
            "Epoch 11/20\n",
            "16/16 [==============================] - 0s 17ms/step - loss: 3.6127 - accuracy: 0.3514 - val_loss: 3.6032 - val_accuracy: 0.3540\n",
            "Epoch 12/20\n",
            "16/16 [==============================] - 0s 17ms/step - loss: 3.5940 - accuracy: 0.3514 - val_loss: 3.5846 - val_accuracy: 0.3540\n",
            "Epoch 13/20\n",
            "16/16 [==============================] - 0s 18ms/step - loss: 3.5755 - accuracy: 0.3514 - val_loss: 3.5662 - val_accuracy: 0.3540\n",
            "Epoch 14/20\n",
            "16/16 [==============================] - 0s 18ms/step - loss: 3.5571 - accuracy: 0.3514 - val_loss: 3.5479 - val_accuracy: 0.3540\n",
            "Epoch 15/20\n",
            "16/16 [==============================] - 0s 17ms/step - loss: 3.5388 - accuracy: 0.3514 - val_loss: 3.5298 - val_accuracy: 0.3540\n",
            "Epoch 16/20\n",
            "16/16 [==============================] - 0s 20ms/step - loss: 3.5207 - accuracy: 0.3514 - val_loss: 3.5118 - val_accuracy: 0.3540\n",
            "Epoch 17/20\n",
            "16/16 [==============================] - 0s 17ms/step - loss: 3.5028 - accuracy: 0.3514 - val_loss: 3.4940 - val_accuracy: 0.3540\n",
            "Epoch 18/20\n",
            "16/16 [==============================] - 0s 17ms/step - loss: 3.4850 - accuracy: 0.3514 - val_loss: 3.4763 - val_accuracy: 0.3540\n",
            "Epoch 19/20\n",
            "16/16 [==============================] - 0s 16ms/step - loss: 3.4675 - accuracy: 0.3514 - val_loss: 3.4588 - val_accuracy: 0.3540\n",
            "Epoch 20/20\n",
            "16/16 [==============================] - 0s 16ms/step - loss: 3.4500 - accuracy: 0.3514 - val_loss: 3.4415 - val_accuracy: 0.3540\n"
          ]
        }
      ]
    },
    {
      "cell_type": "code",
      "source": [
        "# Plotting the training and validation loss\n",
        "loss = history.history[\"loss\"]\n",
        "val_loss = history.history[\"val_loss\"]\n",
        "epochs = range(1, len(loss) + 1)\n",
        "plt.plot(epochs, loss, \"bo\", label=\"Training loss\")\n",
        "plt.plot(epochs, val_loss, \"b\", label=\"Validation loss\")\n",
        "plt.title(\"Training and validation loss\")\n",
        "plt.xlabel(\"Epochs\")\n",
        "plt.ylabel(\"Loss\")\n",
        "plt.legend()\n",
        "plt.show()"
      ],
      "metadata": {
        "colab": {
          "base_uri": "https://localhost:8080/",
          "height": 472
        },
        "id": "-5y7iqLjZavK",
        "outputId": "3c1326a6-4e8d-45d0-8dc1-1ff821b59d7c"
      },
      "execution_count": 33,
      "outputs": [
        {
          "output_type": "display_data",
          "data": {
            "text/plain": [
              "<Figure size 640x480 with 1 Axes>"
            ],
            "image/png": "[encoded data removed]"
          },
          "metadata": {}
        }
      ]
    },
    {
      "cell_type": "code",
      "source": [
        "# Plotting the training and validation accuracy\n",
        "plt.clf() # Clears the figure\n",
        "acc = history.history[\"accuracy\"]\n",
        "val_acc = history.history[\"val_accuracy\"]\n",
        "plt.plot(epochs, acc, \"bo\", label=\"Training accuracy\")\n",
        "plt.plot(epochs, val_acc, \"b\", label=\"Validation accuracy\")\n",
        "plt.title(\"Training and validation accuracy\")\n",
        "plt.xlabel(\"Epochs\")\n",
        "plt.ylabel(\"Accuracy\")\n",
        "plt.legend()\n",
        "plt.show()"
      ],
      "metadata": {
        "colab": {
          "base_uri": "https://localhost:8080/",
          "height": 472
        },
        "id": "sBqY6GOvZeOq",
        "outputId": "f00642be-6f7a-4bcc-ef66-9fe310e18109"
      },
      "execution_count": 34,
      "outputs": [
        {
          "output_type": "display_data",
          "data": {
            "text/plain": [
              "<Figure size 640x480 with 1 Axes>"
            ],
            "image/png": "[encoded data removed]"
          },
          "metadata": {}
        }
      ]
    },
    {
      "cell_type": "markdown",
      "source": [
        "**Retrain model for further experiment**"
      ],
      "metadata": {
        "id": "KR1IiTUSarav"
      }
    },
    {
      "cell_type": "code",
      "source": [
        "# Training the model\n",
        "# Train the model for 20 epochs.\n",
        "history_retrain = model.fit(x_train,\n",
        "                            y_train,\n",
        "                            epochs=20,\n",
        "                            batch_size=512)"
      ],
      "metadata": {
        "colab": {
          "base_uri": "https://localhost:8080/"
        },
        "id": "OF-_pUXgapiV",
        "outputId": "86a04778-2754-459a-9446-7c860128f9f3"
      },
      "execution_count": 35,
      "outputs": [
        {
          "output_type": "stream",
          "name": "stdout",
          "text": [
            "Epoch 1/20\n",
            "18/18 [==============================] - 0s 15ms/step - loss: 3.4146 - accuracy: 0.3517\n",
            "Epoch 2/20\n",
            "18/18 [==============================] - 0s 14ms/step - loss: 3.1863 - accuracy: 0.3517\n",
            "Epoch 3/20\n",
            "18/18 [==============================] - 0s 15ms/step - loss: 2.6996 - accuracy: 0.3517\n",
            "Epoch 4/20\n",
            "18/18 [==============================] - 0s 15ms/step - loss: 2.4568 - accuracy: 0.3517\n",
            "Epoch 5/20\n",
            "18/18 [==============================] - 0s 14ms/step - loss: 2.4218 - accuracy: 0.3517\n",
            "Epoch 6/20\n",
            "18/18 [==============================] - 0s 14ms/step - loss: 2.4106 - accuracy: 0.3517\n",
            "Epoch 7/20\n",
            "18/18 [==============================] - 0s 14ms/step - loss: 2.4064 - accuracy: 0.3517\n",
            "Epoch 8/20\n",
            "18/18 [==============================] - 0s 15ms/step - loss: 2.4044 - accuracy: 0.3517\n",
            "Epoch 9/20\n",
            "18/18 [==============================] - 0s 14ms/step - loss: 2.4044 - accuracy: 0.3517\n",
            "Epoch 10/20\n",
            "18/18 [==============================] - 0s 14ms/step - loss: 2.4046 - accuracy: 0.3517\n",
            "Epoch 11/20\n",
            "18/18 [==============================] - 0s 15ms/step - loss: 2.4039 - accuracy: 0.3517\n",
            "Epoch 12/20\n",
            "18/18 [==============================] - 0s 14ms/step - loss: 2.4037 - accuracy: 0.3517\n",
            "Epoch 13/20\n",
            "18/18 [==============================] - 0s 14ms/step - loss: 2.4035 - accuracy: 0.3517\n",
            "Epoch 14/20\n",
            "18/18 [==============================] - 0s 14ms/step - loss: 2.4040 - accuracy: 0.3517\n",
            "Epoch 15/20\n",
            "18/18 [==============================] - 0s 15ms/step - loss: 2.4040 - accuracy: 0.3517\n",
            "Epoch 16/20\n",
            "18/18 [==============================] - 0s 15ms/step - loss: 2.4040 - accuracy: 0.3517\n",
            "Epoch 17/20\n",
            "18/18 [==============================] - 0s 14ms/step - loss: 2.4036 - accuracy: 0.3517\n",
            "Epoch 18/20\n",
            "18/18 [==============================] - 0s 14ms/step - loss: 2.4041 - accuracy: 0.3517\n",
            "Epoch 19/20\n",
            "18/18 [==============================] - 0s 15ms/step - loss: 2.4033 - accuracy: 0.3517\n",
            "Epoch 20/20\n",
            "18/18 [==============================] - 0s 13ms/step - loss: 2.4036 - accuracy: 0.3517\n"
          ]
        }
      ]
    },
    {
      "cell_type": "code",
      "source": [
        "results_retrain = model.evaluate(x_test, y_test)"
      ],
      "metadata": {
        "colab": {
          "base_uri": "https://localhost:8080/"
        },
        "id": "uAu3KY3cbLTT",
        "outputId": "20cb7025-84c7-4e61-a376-8b0ae8f946e5"
      },
      "execution_count": 36,
      "outputs": [
        {
          "output_type": "stream",
          "name": "stdout",
          "text": [
            "71/71 [==============================] - 0s 4ms/step - loss: 2.4176 - accuracy: 0.3620\n"
          ]
        }
      ]
    },
    {
      "cell_type": "code",
      "source": [
        "results_retrain"
      ],
      "metadata": {
        "colab": {
          "base_uri": "https://localhost:8080/"
        },
        "id": "nqGDAmYhbJXi",
        "outputId": "f97970d0-80d7-42a5-c665-85d582544131"
      },
      "execution_count": 37,
      "outputs": [
        {
          "output_type": "execute_result",
          "data": {
            "text/plain": [
              "[2.4176344871520996, 0.36197686195373535]"
            ]
          },
          "metadata": {},
          "execution_count": 37
        }
      ]
    },
    {
      "cell_type": "code",
      "source": [
        "history_retrain.history"
      ],
      "metadata": {
        "colab": {
          "base_uri": "https://localhost:8080/"
        },
        "id": "tKqIbpwYbsPN",
        "outputId": "3fb9c790-246f-4c8b-8bfa-0bf303800e71"
      },
      "execution_count": 40,
      "outputs": [
        {
          "output_type": "execute_result",
          "data": {
            "text/plain": [
              "{'loss': [3.414619207382202,\n",
              "  3.1862568855285645,\n",
              "  2.6996448040008545,\n",
              "  2.456826686859131,\n",
              "  2.4217746257781982,\n",
              "  2.4106476306915283,\n",
              "  2.4064290523529053,\n",
              "  2.4043962955474854,\n",
              "  2.404444932937622,\n",
              "  2.404618740081787,\n",
              "  2.4038708209991455,\n",
              "  2.403693675994873,\n",
              "  2.4034526348114014,\n",
              "  2.403994083404541,\n",
              "  2.4040162563323975,\n",
              "  2.4040372371673584,\n",
              "  2.403639078140259,\n",
              "  2.4041073322296143,\n",
              "  2.4033002853393555,\n",
              "  2.403597116470337],\n",
              " 'accuracy': [0.351703405380249,\n",
              "  0.351703405380249,\n",
              "  0.351703405380249,\n",
              "  0.351703405380249,\n",
              "  0.351703405380249,\n",
              "  0.351703405380249,\n",
              "  0.351703405380249,\n",
              "  0.351703405380249,\n",
              "  0.351703405380249,\n",
              "  0.351703405380249,\n",
              "  0.351703405380249,\n",
              "  0.351703405380249,\n",
              "  0.351703405380249,\n",
              "  0.351703405380249,\n",
              "  0.351703405380249,\n",
              "  0.351703405380249,\n",
              "  0.351703405380249,\n",
              "  0.351703405380249,\n",
              "  0.351703405380249,\n",
              "  0.351703405380249]}"
            ]
          },
          "metadata": {},
          "execution_count": 40
        }
      ]
    }
  ]
}